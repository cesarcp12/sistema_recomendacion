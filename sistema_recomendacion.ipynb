{
 "cells": [
  {
   "cell_type": "code",
   "execution_count": 1,
   "id": "a01684b9",
   "metadata": {},
   "outputs": [],
   "source": [
    "import pandas as pd\n",
    "import os\n",
    "import matplotlib.pyplot as plt"
   ]
  },
  {
   "cell_type": "code",
   "execution_count": 2,
   "id": "09ddc524",
   "metadata": {},
   "outputs": [],
   "source": [
    "from surprise import Reader, Dataset, SVD, KNNBasic\n",
    "from surprise.model_selection import train_test_split,GridSearchCV\n",
    "from surprise import accuracy"
   ]
  },
  {
   "cell_type": "markdown",
   "id": "425aa278",
   "metadata": {},
   "source": [
    "# DESCARGA DE DATOS"
   ]
  },
  {
   "cell_type": "code",
   "execution_count": 3,
   "id": "c15b5ead",
   "metadata": {},
   "outputs": [
    {
     "name": "stderr",
     "output_type": "stream",
     "text": [
      "c:\\Users\\home\\Documents\\IA Aplicada\\sistema_recomendacion\\.venv\\Lib\\site-packages\\tqdm\\auto.py:21: TqdmWarning: IProgress not found. Please update jupyter and ipywidgets. See https://ipywidgets.readthedocs.io/en/stable/user_install.html\n",
      "  from .autonotebook import tqdm as notebook_tqdm\n"
     ]
    },
    {
     "name": "stdout",
     "output_type": "stream",
     "text": [
      "C:\\Users\\home\\.cache\\kagglehub\\datasets\\vikashrajluhaniwal\\jester-17m-jokes-ratings-dataset\\versions\\3\\jester_items.csv\n",
      "C:\\Users\\home\\.cache\\kagglehub\\datasets\\vikashrajluhaniwal\\jester-17m-jokes-ratings-dataset\\versions\\3\\jester_ratings.csv\n"
     ]
    }
   ],
   "source": [
    "import kagglehub\n",
    "\n",
    "path_jokes = kagglehub.dataset_download(\"vikashrajluhaniwal/jester-17m-jokes-ratings-dataset\")\n",
    "files = []\n",
    "for dirname, _, filenames in os.walk(path_jokes):\n",
    "    for filename in filenames:\n",
    "        file_path = os.path.join(dirname, filename)\n",
    "        files.append(file_path)\n",
    "        print(file_path)"
   ]
  },
  {
   "cell_type": "markdown",
   "id": "1ccf418c",
   "metadata": {},
   "source": [
    "# EXPLORACION DE DATOS"
   ]
  },
  {
   "cell_type": "code",
   "execution_count": 4,
   "id": "1b2be512",
   "metadata": {},
   "outputs": [
    {
     "name": "stdout",
     "output_type": "stream",
     "text": [
      "reviewers cargados: 1761439\n",
      "chistes cargados: 150\n",
      "\n",
      "Usuarios únicos: 59,132\n",
      "Productos unicos 0        1\n",
      "1        2\n",
      "2        3\n",
      "3        4\n",
      "4        5\n",
      "      ... \n",
      "145    146\n",
      "146    147\n",
      "147    148\n",
      "148    149\n",
      "149    150\n",
      "Name: jokeId, Length: 150, dtype: int64\n",
      "\n",
      " ESTRUCTURA DE DATOS:\n",
      " Columnas en reviews:\n",
      "   ['userId', 'jokeId', 'rating']\n",
      "\n",
      " Columnas en metadata:\n",
      "   ['jokeId', 'jokeText']\n",
      "\n",
      " Ratings Max y Min en los chistes:\n",
      "Valor mínimo: -10.0\n",
      "Valor máximo: 10.0\n"
     ]
    }
   ],
   "source": [
    "df_items = pd.read_csv(files[0])\n",
    "df_ratings = pd.read_csv(files[1])\n",
    "# Información básica\n",
    "print(f\"reviewers cargados: {len(df_ratings)}\")\n",
    "print(f\"chistes cargados: {len(df_items)}\")\n",
    "# Revision de usuarios\n",
    "if not df_ratings.empty:\n",
    "    print(f\"\\nUsuarios únicos: {df_ratings['userId'].nunique():,}\")\n",
    "    print(f\"Productos unicos {df_items['jokeId']}\")\n",
    "\n",
    "# Explorar estructura de datos\n",
    "print(f\"\\n ESTRUCTURA DE DATOS:\")\n",
    "print(\" Columnas en reviews:\")\n",
    "print(f\"   {list(df_ratings.columns)}\")\n",
    "print(\"\\n Columnas en metadata:\")\n",
    "print(f\"   {list(df_items.columns)}\")\n",
    "print(\"\\n Ratings Max y Min en los chistes:\")\n",
    "print(\"Valor mínimo:\", df_ratings[\"rating\"].min())\n",
    "print(\"Valor máximo:\", df_ratings[\"rating\"].max())"
   ]
  },
  {
   "cell_type": "code",
   "execution_count": 5,
   "id": "3e541a99",
   "metadata": {},
   "outputs": [
    {
     "name": "stdout",
     "output_type": "stream",
     "text": [
      "Cantidad de ratings_ 1761439\n",
      "userId    0\n",
      "jokeId    0\n",
      "rating    0\n",
      "dtype: int64\n",
      "\n",
      "Cantidad de metadata: 150\n",
      "jokeId      0\n",
      "jokeText    0\n",
      "dtype: int64\n"
     ]
    }
   ],
   "source": [
    "# revision de datos nulos\n",
    "print(f\"Cantidad de ratings_ {len(df_ratings)}\")\n",
    "\n",
    "conteo_nan_ratings = df_ratings.isna().sum()\n",
    "print(conteo_nan_ratings)\n",
    "\n",
    "print(f\"\\nCantidad de metadata: {len(df_items)}\")\n",
    "conteo_nan_metadata = df_items.isna().sum()\n",
    "print(conteo_nan_metadata)"
   ]
  },
  {
   "cell_type": "markdown",
   "id": "e58e764b",
   "metadata": {},
   "source": [
    "# Preparacion y limpieza de datos"
   ]
  },
  {
   "cell_type": "code",
   "execution_count": 6,
   "id": "c305ef80",
   "metadata": {},
   "outputs": [
    {
     "name": "stdout",
     "output_type": "stream",
     "text": [
      "reviews unicos: 140\n",
      "metadata unicos: 150\n"
     ]
    }
   ],
   "source": [
    "# Análisis de intersección\n",
    "print(f\"reviews unicos: {df_ratings[\"jokeId\"].nunique():,}\")\n",
    "print(f\"metadata unicos: {df_items[\"jokeId\"].nunique():,}\")"
   ]
  },
  {
   "cell_type": "code",
   "execution_count": 7,
   "id": "0a5161a6",
   "metadata": {},
   "outputs": [
    {
     "name": "stdout",
     "output_type": "stream",
     "text": [
      "IDs comunes: 140\n",
      " Usando datos reales:\n",
      "    Reviews finales: 1,761,439\n",
      "    Productos finales: 140\n",
      "    Usuarios únicos: 59,132\n"
     ]
    }
   ],
   "source": [
    "# Verificar intersección\n",
    "common_jokes = set(df_ratings['jokeId']) & set(df_items['jokeId'])\n",
    "print(f\"IDs comunes: {len(common_jokes):,}\")\n",
    "\n",
    "if len(common_jokes) == 0:\n",
    "    print(\" NO HAY INTERSECCIÓN - Creando dataset sintético para el tutorial...\")\n",
    "else:\n",
    "    # Usar datos reales si hay intersección\n",
    "    ratings_final = df_ratings[df_ratings['jokeId'].isin(common_jokes)]\n",
    "    jokes_final = df_items[df_items['jokeId'].isin(common_jokes)]\n",
    "    print(f\" Usando datos reales:\")\n",
    "\n",
    "print(f\"    Reviews finales: {len(ratings_final):,}\")\n",
    "print(f\"    Productos finales: {len(jokes_final):,}\")\n",
    "print(f\"    Usuarios únicos: {ratings_final['userId'].nunique():,}\")"
   ]
  },
  {
   "cell_type": "markdown",
   "id": "3bee066e",
   "metadata": {},
   "source": [
    "# Analisis Exploratorio Adicional"
   ]
  },
  {
   "cell_type": "code",
   "execution_count": 8,
   "id": "2f61e05e",
   "metadata": {},
   "outputs": [
    {
     "name": "stdout",
     "output_type": "stream",
     "text": [
      " ESTADÍSTICAS GENERALES:\n",
      "    Rating promedio: 1.62\n",
      "    Mediana de rating: 2.2\n",
      "    Rating más común: 9.938\n",
      "\n",
      " ANÁLISIS DE USUARIOS:\n",
      "    Promedio reviews por usuario: 29.8\n",
      "    Máximo reviews por usuario: 140\n",
      "    Mínimo reviews por usuario: 1\n",
      "\n",
      " ANÁLISIS DE PRODUCTOS:\n",
      "    Promedio reviews por producto: 12581.7\n",
      "    Producto más popular: 59122 reviews\n"
     ]
    }
   ],
   "source": [
    "print(\" ESTADÍSTICAS GENERALES:\")\n",
    "print(f\"    Rating promedio: {ratings_final['rating'].mean():.2f}\")\n",
    "print(f\"    Mediana de rating: {ratings_final['rating'].median():.1f}\")\n",
    "\n",
    "# Verificar que hay datos para moda\n",
    "mode_values = ratings_final['rating'].mode()\n",
    "if len(mode_values) > 0:\n",
    "    print(f\"    Rating más común: {mode_values.iloc[0]}\")\n",
    "else:\n",
    "    print(f\"    Rating más común: N/A\")\n",
    "\n",
    "# Análisis de actividad\n",
    "user_activity = ratings_final.groupby('userId').size()\n",
    "item_popularity = ratings_final.groupby('jokeId').size()\n",
    "\n",
    "print(f\"\\n ANÁLISIS DE USUARIOS:\")\n",
    "print(f\"    Promedio reviews por usuario: {user_activity.mean():.1f}\")\n",
    "print(f\"    Máximo reviews por usuario: {user_activity.max()}\")\n",
    "print(f\"    Mínimo reviews por usuario: {user_activity.min()}\")\n",
    "\n",
    "print(f\"\\n ANÁLISIS DE PRODUCTOS:\")\n",
    "print(f\"    Promedio reviews por producto: {item_popularity.mean():.1f}\")\n",
    "print(f\"    Producto más popular: {item_popularity.max()} reviews\")"
   ]
  },
  {
   "cell_type": "code",
   "execution_count": 9,
   "id": "7a98797b",
   "metadata": {},
   "outputs": [
    {
     "name": "stdout",
     "output_type": "stream",
     "text": [
      "\n",
      "  RATINGS BAJOS (< 0): 591780 registros\n",
      "    Promedio de ratings bajos: -4.58\n",
      "    Mediana de ratings bajos: -4.28\n",
      "    Rating bajo más común: -0.031\n",
      "\n",
      " ANÁLISIS DE USUARIOS:\n",
      "    Promedio reviews negativo por usuario: 10.6\n",
      "    Máximo reviews negativos por usuario: 128\n",
      "    Mínimo reviews negativos por usuario: 1\n",
      "\n",
      " ANÁLISIS DE PRODUCTOS:\n",
      "    Promedio reviews negativos por producto: 4227.0\n",
      "    Producto más impopular: 35779 reviews\n",
      "\n",
      " ANÁLISIS DE USUARIOS:\n",
      "    Promedio reviews negativo por usuario: 10.6\n",
      "    Máximo reviews negativos por usuario: 128\n",
      "    Mínimo reviews negativos por usuario: 1\n",
      "\n",
      " ANÁLISIS DE PRODUCTOS:\n",
      "    Promedio reviews negativos por producto: 4227.0\n",
      "    Producto más impopular: 35779 reviews\n"
     ]
    }
   ],
   "source": [
    "# Analizar ratings menores a 0 (los más bajos)\n",
    "low_ratings = ratings_final[ratings_final['rating'] < 0]\n",
    "print(f\"\\n  RATINGS BAJOS (< 0): {len(low_ratings)} registros\")\n",
    "print(f\"    Promedio de ratings bajos: {low_ratings['rating'].mean():.2f}\")\n",
    "print(f\"    Mediana de ratings bajos: {low_ratings['rating'].median():.2f}\")\n",
    "if not low_ratings.empty:\n",
    "    print(f\"    Rating bajo más común: {low_ratings['rating'].mode().iloc[0]}\")\n",
    "else:\n",
    "    print(\"No hay ratings bajos.\")\n",
    "\n",
    "# Análisis de actividad de ratings bajos\n",
    "user_low_activity = low_ratings.groupby('userId').size()\n",
    "item_impopularity = low_ratings.groupby('jokeId').size()\n",
    "\n",
    "print(f\"\\n ANÁLISIS DE USUARIOS:\")\n",
    "print(f\"    Promedio reviews negativo por usuario: {user_low_activity.mean():.1f}\")\n",
    "print(f\"    Máximo reviews negativos por usuario: {user_low_activity.max()}\")\n",
    "print(f\"    Mínimo reviews negativos por usuario: {user_activity.min()}\")\n",
    "\n",
    "print(f\"\\n ANÁLISIS DE PRODUCTOS:\")\n",
    "print(f\"    Promedio reviews negativos por producto: {item_impopularity.mean():.1f}\")\n",
    "print(f\"    Producto más impopular: {item_impopularity.max()} reviews\")"
   ]
  },
  {
   "cell_type": "markdown",
   "id": "a49a41f9",
   "metadata": {},
   "source": [
    "# Visualizaciones"
   ]
  },
  {
   "cell_type": "code",
   "execution_count": 10,
   "id": "8f0e77a1",
   "metadata": {},
   "outputs": [
    {
     "data": {
      "image/png": "[encoded data removed]",
      "text/plain": [
       "<Figure size 1800x1200 with 6 Axes>"
      ]
     },
     "metadata": {},
     "output_type": "display_data"
    }
   ],
   "source": [
    "# Visualizaciones\n",
    "fig, axes = plt.subplots(2, 3, figsize=(18, 12))\n",
    "\n",
    "# Distribución de ratings\n",
    "axes[0,0].hist(ratings_final['rating'], bins=5, edgecolor='skyblue', alpha=0.7, color='skyblue')\n",
    "axes[0,0].set_title(' Distribución de Ratings en Jester Jokes')\n",
    "axes[0,0].set_xlabel('Rating')\n",
    "axes[0,0].set_ylabel('Frecuencia')\n",
    "\n",
    "# Actividad de usuarios\n",
    "axes[0,1].hist(user_activity, bins=50, edgecolor='lightgreen', alpha=0.7, color='lightgreen')\n",
    "axes[0,1].set_title(' Actividad de Usuarios')\n",
    "axes[0,1].set_xlabel('Reviews por Usuario')\n",
    "axes[0,1].set_ylabel('Frecuencia')\n",
    "axes[0,1].set_yscale('log')\n",
    "\n",
    "# Popularidad de productos\n",
    "axes[0,2].hist(item_popularity, bins=50, edgecolor='orange', alpha=0.7, color='orange')\n",
    "axes[0,2].set_title(' Popularidad de Productos')\n",
    "axes[0,2].set_xlabel('Reviews por Producto')\n",
    "axes[0,2].set_ylabel('Frecuencia')\n",
    "axes[0,2].set_yscale('log')\n",
    "\n",
    "\n",
    "# Matriz de sparsity (muestra)\n",
    "sample_matrix = ratings_final.pivot_table(\n",
    "    index='userId', columns='jokeId', values='rating', fill_value=0\n",
    ").iloc[:50, :50]\n",
    "axes[1,2].imshow(sample_matrix > 0, cmap='viridis', aspect='auto')\n",
    "axes[1,2].set_title(' Matriz User-Item (Muestra 50x50)')\n",
    "axes[1,2].set_xlabel('Chistes')\n",
    "axes[1,2].set_ylabel('Usuarios')\n",
    "\n",
    "plt.tight_layout()\n",
    "plt.show()"
   ]
  },
  {
   "cell_type": "code",
   "execution_count": 11,
   "id": "5186c70c",
   "metadata": {},
   "outputs": [
    {
     "name": "stdout",
     "output_type": "stream",
     "text": [
      " Sparsity: 78.72%\n"
     ]
    }
   ],
   "source": [
    "# Calcular sparsity (con validación)\n",
    "total_user = ratings_final['userId'].nunique()\n",
    "total_items = ratings_final['jokeId'].nunique()\n",
    "total_ratings = len(ratings_final)\n",
    "possible_ratings = total_user * total_items\n",
    "\n",
    "sparsity = 1 - (total_ratings / possible_ratings)\n",
    "print(f\" Sparsity: {sparsity:.2%}\")"
   ]
  },
  {
   "cell_type": "code",
   "execution_count": 12,
   "id": "dd1a8639",
   "metadata": {},
   "outputs": [
    {
     "name": "stdout",
     "output_type": "stream",
     "text": [
      "<class 'pandas.core.frame.DataFrame'>\n",
      "RangeIndex: 1761439 entries, 0 to 1761438\n",
      "Data columns (total 3 columns):\n",
      " #   Column  Dtype  \n",
      "---  ------  -----  \n",
      " 0   userId  int64  \n",
      " 1   jokeId  int64  \n",
      " 2   rating  float64\n",
      "dtypes: float64(1), int64(2)\n",
      "memory usage: 40.3 MB\n"
     ]
    },
    {
     "data": {
      "text/html": [
       "<div>\n",
       "<style scoped>\n",
       "    .dataframe tbody tr th:only-of-type {\n",
       "        vertical-align: middle;\n",
       "    }\n",
       "\n",
       "    .dataframe tbody tr th {\n",
       "        vertical-align: top;\n",
       "    }\n",
       "\n",
       "    .dataframe thead th {\n",
       "        text-align: right;\n",
       "    }\n",
       "</style>\n",
       "<table border=\"1\" class=\"dataframe\">\n",
       "  <thead>\n",
       "    <tr style=\"text-align: right;\">\n",
       "      <th></th>\n",
       "      <th>userId</th>\n",
       "      <th>jokeId</th>\n",
       "      <th>rating</th>\n",
       "    </tr>\n",
       "  </thead>\n",
       "  <tbody>\n",
       "    <tr>\n",
       "      <th>count</th>\n",
       "      <td>1.761439e+06</td>\n",
       "      <td>1.761439e+06</td>\n",
       "      <td>1.761439e+06</td>\n",
       "    </tr>\n",
       "    <tr>\n",
       "      <th>mean</th>\n",
       "      <td>3.272322e+04</td>\n",
       "      <td>7.071133e+01</td>\n",
       "      <td>1.618602e+00</td>\n",
       "    </tr>\n",
       "    <tr>\n",
       "      <th>std</th>\n",
       "      <td>1.828011e+04</td>\n",
       "      <td>4.600790e+01</td>\n",
       "      <td>5.302608e+00</td>\n",
       "    </tr>\n",
       "    <tr>\n",
       "      <th>min</th>\n",
       "      <td>1.000000e+00</td>\n",
       "      <td>5.000000e+00</td>\n",
       "      <td>-1.000000e+01</td>\n",
       "    </tr>\n",
       "    <tr>\n",
       "      <th>25%</th>\n",
       "      <td>1.720200e+04</td>\n",
       "      <td>2.100000e+01</td>\n",
       "      <td>-2.031000e+00</td>\n",
       "    </tr>\n",
       "    <tr>\n",
       "      <th>50%</th>\n",
       "      <td>3.480800e+04</td>\n",
       "      <td>6.900000e+01</td>\n",
       "      <td>2.219000e+00</td>\n",
       "    </tr>\n",
       "    <tr>\n",
       "      <th>75%</th>\n",
       "      <td>4.730600e+04</td>\n",
       "      <td>1.120000e+02</td>\n",
       "      <td>5.719000e+00</td>\n",
       "    </tr>\n",
       "    <tr>\n",
       "      <th>max</th>\n",
       "      <td>6.397800e+04</td>\n",
       "      <td>1.500000e+02</td>\n",
       "      <td>1.000000e+01</td>\n",
       "    </tr>\n",
       "  </tbody>\n",
       "</table>\n",
       "</div>"
      ],
      "text/plain": [
       "             userId        jokeId        rating\n",
       "count  1.761439e+06  1.761439e+06  1.761439e+06\n",
       "mean   3.272322e+04  7.071133e+01  1.618602e+00\n",
       "std    1.828011e+04  4.600790e+01  5.302608e+00\n",
       "min    1.000000e+00  5.000000e+00 -1.000000e+01\n",
       "25%    1.720200e+04  2.100000e+01 -2.031000e+00\n",
       "50%    3.480800e+04  6.900000e+01  2.219000e+00\n",
       "75%    4.730600e+04  1.120000e+02  5.719000e+00\n",
       "max    6.397800e+04  1.500000e+02  1.000000e+01"
      ]
     },
     "execution_count": 12,
     "metadata": {},
     "output_type": "execute_result"
    }
   ],
   "source": [
    "# Forma final de reviewers\n",
    "ratings_final.info()\n",
    "ratings_final.describe(include=\"all\")"
   ]
  },
  {
   "cell_type": "markdown",
   "id": "a2a86dbb",
   "metadata": {},
   "source": [
    "# PREPARACION DEL MODELO BASADO EN USUARIOS Y FACTORIZACION DE MATRICES"
   ]
  },
  {
   "cell_type": "code",
   "execution_count": 13,
   "id": "a5fda039",
   "metadata": {},
   "outputs": [
    {
     "name": "stdout",
     "output_type": "stream",
     "text": [
      "Usando ratings_final directamente para Surprise...\n",
      "\n",
      "--- Modelo 1: Filtrado Colaborativo Basado en Memoria (User-Based KNN) ---\n",
      "Entrenando el modelo KNN...\n",
      "Evaluando el modelo KNN...\n",
      "RMSE: 5.1942\n"
     ]
    }
   ],
   "source": [
    "# --- PASO 1: Preparar los Datos ---\n",
    "n_users_sample = 15000\n",
    "print(\"Usando ratings_final directamente para Surprise...\")\n",
    "jester_df_wide_sampled = ratings_final.head(n=n_users_sample)\n",
    "\n",
    "# --- PASO 2: Preparar los datos para la biblioteca Surprise ---\n",
    "reader = Reader(rating_scale=(-10, 10))\n",
    "##Datos para  el filtrado colaborativo basado en usuarios\n",
    "data_sampled = Dataset.load_from_df(jester_df_wide_sampled[['userId', 'jokeId', 'rating']], reader)\n",
    "trainset_sampled, testset_sampled = train_test_split(data_sampled, test_size=0.2, random_state=42)\n",
    "##Datos para el modelo Factorizacion de Matrices con SVD\n",
    "data_full = Dataset.load_from_df(ratings_final[['userId', 'jokeId', 'rating']], reader)\n",
    "trainset_full, testset_full = train_test_split(data_full, test_size=0.2, random_state=42)\n",
    "\n",
    "# --- PASO 3: Implementar y Evaluar los Modelos ---\n",
    "print(\"\\n--- Modelo 1: Filtrado Colaborativo Basado en Memoria (User-Based KNN) ---\")\n",
    "sim_options = {'name': 'pearson_baseline', 'user_based': True, 'min_support': 2}\n",
    "knn = KNNBasic(sim_options=sim_options, verbose=False) \n",
    "\n",
    "# Entrenar el modelo\n",
    "print(\"Entrenando el modelo KNN...\")\n",
    "knn.fit(trainset_sampled)\n",
    "\n",
    "# Realizar predicciones en el conjunto de prueba\n",
    "print(\"Evaluando el modelo KNN...\")\n",
    "knn_predictions = knn.test(testset_sampled)\n",
    "\n",
    "# Calcular y mostrar el error (RMSE)\n",
    "knn_rmse = accuracy.rmse(knn_predictions)\n"
   ]
  },
  {
   "cell_type": "code",
   "execution_count": 14,
   "id": "686039f6",
   "metadata": {},
   "outputs": [
    {
     "name": "stdout",
     "output_type": "stream",
     "text": [
      "\n",
      "--- Modelo 2: Optimizando Factorización de Matrices (SVD) con GridSearchCV ---\n",
      "Ejecutando GridSearchCV sobre el conjunto de entrenamiento...\n",
      "Mejores parámetros encontrados: {'n_factors': 100, 'n_epochs': 30, 'lr_all': 0.005, 'reg_all': 0.1}\n",
      "RMSE: 4.3792\n",
      "RMSE en el conjunto de prueba: 4.379174708517556\n"
     ]
    }
   ],
   "source": [
    "# --- PASO 3a: Optimización de Hiperparámetros para SVD ---\n",
    "print(\"\\n--- Modelo 2: Optimizando Factorización de Matrices (SVD) con GridSearchCV ---\")\n",
    "param_grid = {\n",
    "    'n_factors': [100],          # Número de factores latentes\n",
    "    'n_epochs': [20,30],             # Número de iteraciones\n",
    "    'lr_all': [0.005,0.01],        # Tasa de aprendizaje\n",
    "    'reg_all': [0.1]          # Término de regularización\n",
    "}\n",
    "\n",
    "print(\"Ejecutando GridSearchCV sobre el conjunto de entrenamiento...\")\n",
    "gs = GridSearchCV(SVD, param_grid, measures=['rmse'], cv=3)\n",
    "gs.fit(data_full)\n",
    "\n",
    "# Obtener el mejor modelo (entrenado con los mejores parámetros)\n",
    "svd_model = gs.best_estimator['rmse']\n",
    "\n",
    "# Obtener los mejores parámetros\n",
    "best_params = gs.best_params['rmse']\n",
    "print(f\"Mejores parámetros encontrados: {best_params}\")\n",
    "# Entrenar el modelo SVD con los mejores parámetros\n",
    "svd = SVD(**best_params)\n",
    "svd.fit(trainset_full)\n",
    "# Evaluar el modelo optimizado en el conjunto de prueba\n",
    "svd_predictions = svd.test(testset_full)\n",
    "svd_rmse = accuracy.rmse(svd_predictions)\n",
    "\n",
    "print(f\"RMSE en el conjunto de prueba: {svd_rmse}\")\n"
   ]
  },
  {
   "cell_type": "code",
   "execution_count": 15,
   "id": "9fbdea4c",
   "metadata": {},
   "outputs": [
    {
     "name": "stdout",
     "output_type": "stream",
     "text": [
      "\n",
      "--- Comparación de Resultados ---\n",
      "RMSE del modelo Basado en Memoria (KNN): 5.1942\n",
      "RMSE del modelo Basado en Modelo (SVD):  4.3792\n",
      "\n",
      "Conclusión: El modelo de Factorización de Matrices (SVD) fue más preciso.\n"
     ]
    }
   ],
   "source": [
    "    # --- PASO 4: Comparación y Conclusión ---\n",
    "print(\"\\n--- Comparación de Resultados ---\")\n",
    "print(f\"RMSE del modelo Basado en Memoria (KNN): {knn_rmse:.4f}\")\n",
    "print(f\"RMSE del modelo Basado en Modelo (SVD):  {svd_rmse:.4f}\")\n",
    "\n",
    "if svd_rmse < knn_rmse:\n",
    "    print(\"\\nConclusión: El modelo de Factorización de Matrices (SVD) fue más preciso.\")\n",
    "    best_model = svd\n",
    "else:\n",
    "    print(\"\\nConclusión: El modelo Basado en Memoria (KNN) fue más preciso.\")\n",
    "    best_model = knn\n"
   ]
  },
  {
   "cell_type": "markdown",
   "id": "78bd1b00",
   "metadata": {},
   "source": [
    "# Probando con usuarios al Azar para ver su Recomendación"
   ]
  },
  {
   "cell_type": "code",
   "execution_count": 21,
   "id": "b453cfbc",
   "metadata": {},
   "outputs": [
    {
     "name": "stdout",
     "output_type": "stream",
     "text": [
      "Historial de chistes calificados por el usuario 130:\n",
      "id :5 | Rating: 7.0620 | Chiste: 'Q.\tWhat's O. J. Simpson's Internet address? \n",
      "A.\tSlash, slash, backslash, slash, slash, escape.\n",
      "'\n",
      "id :7 | Rating: -8.9060 | Chiste: 'How many feminists does it take to screw in a light bulb?\n",
      "That's not funny.\n",
      "'\n",
      "id :8 | Rating: -8.9060 | Chiste: 'Q. Did you hear about the dyslexic devil worshiper? \n",
      "\n",
      "A. He sold his soul to Santa.\n",
      "'\n",
      "id :13 | Rating: -4.5940 | Chiste: 'They asked the Japanese visitor if they have elections in his\n",
      "country.  \n",
      "\"Every Morning\" he answers.\n",
      "'\n",
      "id :15 | Rating: -7.3440 | Chiste: 'Q:  What did the blind person say when given some matzah?\n",
      "\n",
      "A:  Who the hell wrote this?\n",
      "'\n"
     ]
    }
   ],
   "source": [
    "user_id_example = 130\n",
    "# Obtener las calificaciones del usuario\n",
    "user_ratings = ratings_final[ratings_final['userId'] == user_id_example]\n",
    "user_jokes = pd.merge(user_ratings, df_items, on='jokeId')\n",
    "\n",
    "print(f\"Historial de chistes calificados por el usuario {user_id_example}:\")\n",
    "for index, row in user_jokes.head(5).iterrows():\n",
    "    print(f\"id :{row['jokeId']} | Rating: {row['rating']:.4f} | Chiste: '{row['jokeText']}'\")"
   ]
  },
  {
   "cell_type": "code",
   "execution_count": 22,
   "id": "5578a3a1",
   "metadata": {},
   "outputs": [],
   "source": [
    "# Obtener los chistes que el usuario no ha visto\n",
    "all_joke_ids = ratings_final['jokeId'].unique()\n",
    "rated_joke_ids = user_ratings['jokeId'].unique()\n",
    "unrated_joke_ids = [joke_id for joke_id in all_joke_ids if joke_id not in rated_joke_ids]"
   ]
  },
  {
   "cell_type": "code",
   "execution_count": 23,
   "id": "fbe5bf65",
   "metadata": {},
   "outputs": [],
   "source": [
    "# Predecir las calificaciones para los chistes no calificados\n",
    "predictions = []\n",
    "for joke_id in unrated_joke_ids:\n",
    "    prediction = svd.predict(uid=user_id_example, iid=joke_id)\n",
    "    predictions.append(prediction)\n",
    "\n",
    "# Ordenar las predicciones de mayor a menor\n",
    "sorted_predictions = sorted(predictions, key=lambda x: x.est, reverse=True)"
   ]
  },
  {
   "cell_type": "code",
   "execution_count": 24,
   "id": "eaf09f2a",
   "metadata": {},
   "outputs": [
    {
     "name": "stdout",
     "output_type": "stream",
     "text": [
      "\n",
      "--- Recomendación ---\n",
      "Se recomienda el chiste con ID 60.\n",
      "Calificación predicha: 7.21\n",
      "Chiste recomendado: 'What did the Buddhist say to the hot dog vendor?\n",
      "Make me one with everything.\n",
      "'\n"
     ]
    }
   ],
   "source": [
    "# Obtener el chiste recomendado (el de mayor predicción)\n",
    "if sorted_predictions: # Asegurarse de que hay predicciones\n",
    "    recommended_joke_id = sorted_predictions[0].iid\n",
    "    recommended_rating = sorted_predictions[0].est\n",
    "    recommended_joke_text = df_items[df_items['jokeId'] == recommended_joke_id]['jokeText'].iloc[0]\n",
    "\n",
    "    print(\"\\n--- Recomendación ---\")\n",
    "    print(f\"Se recomienda el chiste con ID {recommended_joke_id}.\")\n",
    "    print(f\"Calificación predicha: {recommended_rating:.2f}\")\n",
    "    print(f\"Chiste recomendado: '{recommended_joke_text}'\")\n",
    "else:\n",
    "    print(\"\\nNo hay chistes no calificados para recomendar a este usuario.\")\n",
    "    recommended_joke_id = None\n",
    "    recommended_rating = None\n",
    "    recommended_joke_text = \"No hay recomendación\"\n",
    "\n"
   ]
  },
  {
   "cell_type": "code",
   "execution_count": null,
   "id": "26f62447",
   "metadata": {},
   "outputs": [
    {
     "data": {
      "image/png": "[encoded data removed]",
      "text/plain": [
       "<Figure size 1200x700 with 1 Axes>"
      ]
     },
     "metadata": {},
     "output_type": "display_data"
    }
   ],
   "source": [
    "if recommended_joke_id is not None:\n",
    "    display_user_jokes = user_jokes.head(5)\n",
    "    joke_labels = list(display_user_jokes['jokeText'].str.split().str[0] + '...')\n",
    "    ratings = list(display_user_jokes['rating'])\n",
    "    joke_labels.append(\"Recomendado\")\n",
    "    ratings.append(recommended_rating)\n",
    "\n",
    "    colors = []\n",
    "    for r in list(display_user_jokes['rating']):\n",
    "        if r <= 0:\n",
    "            colors.append('red')\n",
    "        else:\n",
    "            colors.append('blue')\n",
    "    colors.append('orange') # Color para la recomendación\n",
    "\n",
    "    plt.figure(figsize=(12, 7))\n",
    "    bars = plt.bar(joke_labels, ratings, color=colors)\n",
    "    plt.title(f\"Calificaciones del Usuario {user_id_example} y Predicción de Recomendación\")\n",
    "    plt.ylabel(\"Calificación (-10 a 10)\")\n",
    "    plt.ylim(-10, 10)\n",
    "    plt.axhline(y=recommended_rating, color='gray', linestyle='--', label=f'Predicción: {recommended_rating:.2f}')\n",
    "    plt.legend()\n",
    "    plt.xticks(rotation=45, ha='right')\n",
    "    plt.grid(axis='y', linestyle='--', alpha=0.7)\n",
    "    plt.tight_layout()\n",
    "\n",
    "    # Añadir las etiquetas de valor en las barras\n",
    "    for bar in bars:\n",
    "        yval = bar.get_height()\n",
    "        plt.text(bar.get_x() + bar.get_width()/2, yval, round(yval, 2), ha='center', va='bottom',\n",
    "                 color='black' if yval >= 0 else 'white')\n",
    "    \n",
    "    plt.show()"
   ]
  },
  {
   "cell_type": "code",
   "execution_count": null,
   "id": "e4ac9a48",
   "metadata": {},
   "outputs": [],
   "source": []
  }
 ],
 "metadata": {
  "kernelspec": {
   "display_name": ".venv",
   "language": "python",
   "name": "python3"
  },
  "language_info": {
   "codemirror_mode": {
    "name": "ipython",
    "version": 3
   },
   "file_extension": ".py",
   "mimetype": "text/x-python",
   "name": "python",
   "nbconvert_exporter": "python",
   "pygments_lexer": "ipython3",
   "version": "3.12.4"
  }
 },
 "nbformat": 4,
 "nbformat_minor": 5
}
